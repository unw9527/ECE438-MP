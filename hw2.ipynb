{
 "cells": [
  {
   "cell_type": "code",
   "execution_count": 1,
   "metadata": {},
   "outputs": [],
   "source": [
    "import matplotlib.pyplot as plt\n",
    "import numpy as np\n",
    "import random"
   ]
  },
  {
   "cell_type": "code",
   "execution_count": 93,
   "metadata": {},
   "outputs": [],
   "source": [
    "class Packet():\n",
    "    def __init__(self, summation: int, length: int):\n",
    "        temp = np.ones(length) / length\n",
    "        self.packets = np.random.multinomial(summation, temp, size=1)[0]"
   ]
  },
  {
   "cell_type": "code",
   "execution_count": 94,
   "metadata": {},
   "outputs": [],
   "source": [
    "class Queue():\n",
    "    def __init__(self):\n",
    "        self.length = 0\n",
    "        self.packets = []\n",
    "    def enqueue(self, enter_t: int):\n",
    "        self.length += 1\n",
    "        self.packets.append(enter_t)\n",
    "    def dequeue(self):\n",
    "        self.length -= 1\n",
    "        self.packets.pop(0)\n",
    "    def get_enter_t(self):\n",
    "        return self.packets[0]"
   ]
  },
  {
   "cell_type": "code",
   "execution_count": 126,
   "metadata": {},
   "outputs": [
    {
     "data": {
      "image/png": "[encoded data removed]",
      "text/plain": [
       "<Figure size 720x360 with 1 Axes>"
      ]
     },
     "metadata": {
      "needs_background": "light"
     },
     "output_type": "display_data"
    },
    {
     "data": {
      "image/png": "[encoded data removed]",
      "text/plain": [
       "<Figure size 720x360 with 1 Axes>"
      ]
     },
     "metadata": {
      "needs_background": "light"
     },
     "output_type": "display_data"
    }
   ],
   "source": [
    "As = np.arange(1, 11)\n",
    "R = 10\n",
    "t = 1000\n",
    "avg_qd = []\n",
    "avg_max_size = []\n",
    "\n",
    "for A in As:\n",
    "    num_packet = A * t\n",
    "    delays = []\n",
    "    max_sizes = []\n",
    "    for _ in range(10):\n",
    "        curr_t = 0\n",
    "        max_size = 0\n",
    "        delay = []\n",
    "        p = Packet(num_packet, t * 10)\n",
    "        q = Queue()\n",
    "        for curr_t in range(len(p.packets)):\n",
    "            while p.packets[curr_t] != 0:\n",
    "                q.enqueue(curr_t) \n",
    "                p.packets[curr_t] -= 1\n",
    "            if q.length > 0:\n",
    "                delay.append((curr_t - q.get_enter_t()) / 10)\n",
    "                q.dequeue()\n",
    "            if max_size < q.length:\n",
    "                max_size = q.length\n",
    "        delays.append(np.mean(np.array(delay)))\n",
    "        max_sizes.append(max_size)\n",
    "    avg_qd.append(np.mean(np.array(delays)))\n",
    "    avg_max_size.append(np.mean(np.array(max_sizes)))\n",
    "    delays = np.array(delays)\n",
    "    delays.sort()\n",
    "plt.figure(figsize=(10, 5))\n",
    "plt.bar(As / R, np.array(avg_qd), width=0.05)\n",
    "plt.xlabel(\"A / R\")\n",
    "plt.ylabel(\"Avg Queueing Delay\")\n",
    "plt.figure(figsize=(10, 5))\n",
    "plt.xlabel(\"A / R\")\n",
    "plt.ylabel(\"Max Queue Size\")\n",
    "plt.bar(As / R, np.array(avg_max_size), width=0.05)\n",
    "plt.show()"
   ]
  }
 ],
 "metadata": {
  "kernelspec": {
   "display_name": "Python 3.7.13 ('deeplearning')",
   "language": "python",
   "name": "python3"
  },
  "language_info": {
   "codemirror_mode": {
    "name": "ipython",
    "version": 3
   },
   "file_extension": ".py",
   "mimetype": "text/x-python",
   "name": "python",
   "nbconvert_exporter": "python",
   "pygments_lexer": "ipython3",
   "version": "3.7.13"
  },
  "orig_nbformat": 4,
  "vscode": {
   "interpreter": {
    "hash": "c65d97aa28803afe8a2483e7709cf7751c6446c62982589ae4da6cb2f06943b6"
   }
  }
 },
 "nbformat": 4,
 "nbformat_minor": 2
}
